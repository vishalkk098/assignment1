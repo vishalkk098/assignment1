{
 "cells": [
  {
   "cell_type": "code",
   "execution_count": 1,
   "id": "76d24797-8e65-4cd2-b073-4fb53232d375",
   "metadata": {},
   "outputs": [
    {
     "name": "stdout",
     "output_type": "stream",
     "text": [
      "pwskills\n"
     ]
    }
   ],
   "source": [
    "#one variable containing following type of data\n",
    "#string\n",
    "x=\"pwskills\"\n",
    "print(x)"
   ]
  },
  {
   "cell_type": "code",
   "execution_count": 2,
   "id": "76734f29-e85d-400e-a95d-176f966c61d0",
   "metadata": {},
   "outputs": [
    {
     "data": {
      "text/plain": [
       "[2, 4, 'skill', 4.6]"
      ]
     },
     "execution_count": 2,
     "metadata": {},
     "output_type": "execute_result"
    }
   ],
   "source": [
    "#list\n",
    "x=[2,4,\"skill\",4.6]\n",
    "x\n"
   ]
  },
  {
   "cell_type": "code",
   "execution_count": 3,
   "id": "21bbe324-9acd-4346-806b-0e21afd37dc3",
   "metadata": {},
   "outputs": [
    {
     "data": {
      "text/plain": [
       "4.6"
      ]
     },
     "execution_count": 3,
     "metadata": {},
     "output_type": "execute_result"
    }
   ],
   "source": [
    "#float\n",
    "y=4.6\n",
    "y"
   ]
  },
  {
   "cell_type": "code",
   "execution_count": 7,
   "id": "57fd6832-3a06-4cd1-bcfb-b4fb423387c2",
   "metadata": {},
   "outputs": [
    {
     "data": {
      "text/plain": [
       "(3, 5, 8)"
      ]
     },
     "execution_count": 7,
     "metadata": {},
     "output_type": "execute_result"
    }
   ],
   "source": [
    "#tuple\n",
    "z=(3,5,8)\n",
    "z"
   ]
  },
  {
   "cell_type": "code",
   "execution_count": 9,
   "id": "d325d4c5-31e2-47ff-828d-ae9d9810a80a",
   "metadata": {},
   "outputs": [
    {
     "data": {
      "text/plain": [
       "str"
      ]
     },
     "execution_count": 9,
     "metadata": {},
     "output_type": "execute_result"
    }
   ],
   "source": [
    "#Q2 find datatype\n",
    "var1=''\n",
    "type(var1)"
   ]
  },
  {
   "cell_type": "code",
   "execution_count": 10,
   "id": "928844a7-8616-4dd8-a475-7541d585d601",
   "metadata": {},
   "outputs": [
    {
     "data": {
      "text/plain": [
       "str"
      ]
     },
     "execution_count": 10,
     "metadata": {},
     "output_type": "execute_result"
    }
   ],
   "source": [
    "var2='[ds,ml,python]'\n",
    "type(var2)"
   ]
  },
  {
   "cell_type": "code",
   "execution_count": 11,
   "id": "be24d907-f529-46a3-b939-a185fd4e0a0e",
   "metadata": {},
   "outputs": [
    {
     "data": {
      "text/plain": [
       "list"
      ]
     },
     "execution_count": 11,
     "metadata": {},
     "output_type": "execute_result"
    }
   ],
   "source": [
    "var3=['ds','ml','python']\n",
    "type(var3)"
   ]
  },
  {
   "cell_type": "code",
   "execution_count": 12,
   "id": "15d299fc-0dab-420d-a21e-e6e953c9f0cb",
   "metadata": {},
   "outputs": [
    {
     "data": {
      "text/plain": [
       "float"
      ]
     },
     "execution_count": 12,
     "metadata": {},
     "output_type": "execute_result"
    }
   ],
   "source": [
    "var4=1.\n",
    "type(var4)"
   ]
  },
  {
   "cell_type": "code",
   "execution_count": 1,
   "id": "61474cb3-18b7-49a7-bafa-487b286eaae4",
   "metadata": {},
   "outputs": [
    {
     "data": {
      "text/plain": [
       "2.0"
      ]
     },
     "execution_count": 1,
     "metadata": {},
     "output_type": "execute_result"
    }
   ],
   "source": [
    "#use of opertor with ex\n",
    "#/  divide a by b\n",
    "a=10\n",
    "b=5\n",
    "a/b"
   ]
  },
  {
   "cell_type": "code",
   "execution_count": 5,
   "id": "8745f13c-7171-4629-b946-280a1b7811ba",
   "metadata": {},
   "outputs": [
    {
     "data": {
      "text/plain": [
       "1"
      ]
     },
     "execution_count": 5,
     "metadata": {},
     "output_type": "execute_result"
    }
   ],
   "source": [
    "#// floor divide a by b ,dropping any franctional remainder\n",
    "a=10\n",
    "b=6\n",
    "a//b"
   ]
  },
  {
   "cell_type": "code",
   "execution_count": 6,
   "id": "ad2cf65b-caee-472c-90bb-aff90c0f79e8",
   "metadata": {},
   "outputs": [
    {
     "data": {
      "text/plain": [
       "1"
      ]
     },
     "execution_count": 6,
     "metadata": {},
     "output_type": "execute_result"
    }
   ],
   "source": [
    "# % give remainder\n",
    "a=5\n",
    "b=2\n",
    "a%b"
   ]
  },
  {
   "cell_type": "code",
   "execution_count": 1,
   "id": "d7dd5e9d-eb96-4dfb-a8fd-d1b2cd6d9cd4",
   "metadata": {},
   "outputs": [
    {
     "data": {
      "text/plain": [
       "8"
      ]
     },
     "execution_count": 1,
     "metadata": {},
     "output_type": "execute_result"
    }
   ],
   "source": [
    "# ** power\n",
    "a=2\n",
    "b=3\n",
    "a**b"
   ]
  },
  {
   "cell_type": "code",
   "execution_count": 2,
   "id": "f1d6e9a5-ec5f-4abb-a1ac-2c586c71529d",
   "metadata": {},
   "outputs": [
    {
     "name": "stdout",
     "output_type": "stream",
     "text": [
      "1\n",
      "<class 'int'>\n",
      "2.3\n",
      "<class 'float'>\n",
      "2\n",
      "<class 'int'>\n",
      "pw\n",
      "<class 'str'>\n",
      "True\n",
      "<class 'bool'>\n",
      "skills\n",
      "<class 'str'>\n",
      "9.44\n",
      "<class 'float'>\n",
      "9\n",
      "<class 'int'>\n",
      "books\n",
      "<class 'str'>\n"
     ]
    }
   ],
   "source": [
    "#Q4-Q4. Create a list of length 10 of your choice containing multiple types of data. Using for loop print the\n",
    "#element and its data type.\n",
    "a_list=[1,2.3,2,'pw',True,'skills',9.44,9,'books']\n",
    "for i in a_list:\n",
    "    print(i)\n",
    "    print(type(i))"
   ]
  },
  {
   "cell_type": "code",
   "execution_count": null,
   "id": "2e147b7b-4a19-4f64-ab64-fc1f509a2e7b",
   "metadata": {},
   "outputs": [],
   "source": [
    "#Q5Q5. Using a while loop, verify if the number A is purely divisible by number B and if so then how many\n",
    "#times it can be divisible.\n",
    "def count_divisibility(A, B):\n",
    "    count = 0\n",
    "    while A % B == 0:\n",
    "        count += 1\n",
    "        A //= B  \n",
    "    return count\n"
   ]
  },
  {
   "cell_type": "code",
   "execution_count": 10,
   "id": "4a7886b6-275a-4c4a-84c8-e851c4a617b4",
   "metadata": {},
   "outputs": [
    {
     "name": "stdout",
     "output_type": "stream",
     "text": [
      "3\n",
      "list num divible by 3\n",
      "5\n",
      "not digible by 3\n",
      "9\n",
      "list num divible by 3\n",
      "7\n",
      "not digible by 3\n",
      "5\n",
      "not digible by 3\n",
      "12\n",
      "list num divible by 3\n",
      "56\n",
      "not digible by 3\n",
      "33\n",
      "list num divible by 3\n",
      "44\n",
      "not digible by 3\n",
      "66\n",
      "list num divible by 3\n",
      "17\n",
      "not digible by 3\n",
      "28\n",
      "not digible by 3\n",
      "4\n",
      "not digible by 3\n",
      "5\n",
      "not digible by 3\n",
      "4\n",
      "not digible by 3\n",
      "6\n",
      "list num divible by 3\n",
      "7\n",
      "not digible by 3\n",
      "2\n",
      "not digible by 3\n",
      "8\n",
      "not digible by 3\n",
      "5\n",
      "not digible by 3\n",
      "7\n",
      "not digible by 3\n",
      "56\n",
      "not digible by 3\n",
      "8\n",
      "not digible by 3\n",
      "3\n",
      "list num divible by 3\n",
      "5\n",
      "not digible by 3\n"
     ]
    }
   ],
   "source": [
    "#Q6Create a list containing 25 int type data. Using for loop and if-else condition print if the element is\n",
    "#divisible by 3 or not.\n",
    "a_list=[3,5,9,7,5,12,56,33,44,66,17,28,4,5,4,6,7,2,8,5,7,56,8,3,5]\n",
    "for i in a_list:\n",
    "    print(i)\n",
    "    if i%3==0:\n",
    "        print('list num divible by 3')\n",
    "    else:\n",
    "        print('not digible by 3')"
   ]
  },
  {
   "cell_type": "code",
   "execution_count": 13,
   "id": "84029171-fb55-43fa-8ba6-02fd12806ae7",
   "metadata": {},
   "outputs": [
    {
     "data": {
      "text/plain": [
       "[2, 3, 'pw', 5.8]"
      ]
     },
     "execution_count": 13,
     "metadata": {},
     "output_type": "execute_result"
    }
   ],
   "source": [
    "#Q7-What do you understand about mutable and immutable data types? Give examples for both showing\n",
    "#this property.\n",
    "#mutable:- object or value they contain can be modified\n",
    "#ex\n",
    "a_list=[2,3,7,5.8]\n",
    "a_list[2]='pw'\n",
    "a_list"
   ]
  },
  {
   "cell_type": "code",
   "execution_count": 14,
   "id": "8fc24523-2800-494f-aad1-8b6805d84a29",
   "metadata": {},
   "outputs": [
    {
     "ename": "TypeError",
     "evalue": "'str' object does not support item assignment",
     "output_type": "error",
     "traceback": [
      "\u001b[0;31m---------------------------------------------------------------------------\u001b[0m",
      "\u001b[0;31mTypeError\u001b[0m                                 Traceback (most recent call last)",
      "Cell \u001b[0;32mIn[14], line 4\u001b[0m\n\u001b[1;32m      1\u001b[0m \u001b[38;5;66;03m#immutabel:-internal data can not be change\u001b[39;00m\n\u001b[1;32m      2\u001b[0m \u001b[38;5;66;03m#ex\u001b[39;00m\n\u001b[1;32m      3\u001b[0m a\u001b[38;5;241m=\u001b[39m\u001b[38;5;124m'\u001b[39m\u001b[38;5;124mskills\u001b[39m\u001b[38;5;124m'\u001b[39m\n\u001b[0;32m----> 4\u001b[0m \u001b[43ma\u001b[49m\u001b[43m[\u001b[49m\u001b[38;5;241;43m3\u001b[39;49m\u001b[43m]\u001b[49m\u001b[38;5;241m=\u001b[39m\u001b[38;5;124m'\u001b[39m\u001b[38;5;124mk\u001b[39m\u001b[38;5;124m'\u001b[39m\n\u001b[1;32m      5\u001b[0m a\n",
      "\u001b[0;31mTypeError\u001b[0m: 'str' object does not support item assignment"
     ]
    }
   ],
   "source": [
    "#immutabel:-internal data can not be change\n",
    "#ex\n",
    "a='skills'\n",
    "a[3]='k'\n",
    "a"
   ]
  },
  {
   "cell_type": "code",
   "execution_count": null,
   "id": "a764bf0b-8fa8-4e3d-8879-13316227171b",
   "metadata": {},
   "outputs": [],
   "source": []
  }
 ],
 "metadata": {
  "kernelspec": {
   "display_name": "Python 3 (ipykernel)",
   "language": "python",
   "name": "python3"
  },
  "language_info": {
   "codemirror_mode": {
    "name": "ipython",
    "version": 3
   },
   "file_extension": ".py",
   "mimetype": "text/x-python",
   "name": "python",
   "nbconvert_exporter": "python",
   "pygments_lexer": "ipython3",
   "version": "3.10.8"
  }
 },
 "nbformat": 4,
 "nbformat_minor": 5
}
